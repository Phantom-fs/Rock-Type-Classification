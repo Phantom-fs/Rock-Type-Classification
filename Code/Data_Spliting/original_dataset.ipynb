{
 "cells": [
  {
   "cell_type": "code",
   "execution_count": null,
   "metadata": {
    "ExecuteTime": {
     "end_time": "2024-01-16T04:02:58.270113Z",
     "start_time": "2024-01-16T04:02:57.586288100Z"
    },
    "collapsed": false
   },
   "outputs": [],
   "source": [
    "# dataset division into train, test and validation sets; 75%, 15%, 15%\n",
    "import os\n",
    "import shutil\n",
    "import random\n",
    "from tqdm import tqdm\n",
    "from sklearn.model_selection import train_test_split"
   ]
  },
  {
   "cell_type": "code",
   "execution_count": null,
   "metadata": {
    "ExecuteTime": {
     "end_time": "2024-01-16T04:02:58.270113Z",
     "start_time": "2024-01-16T04:02:58.252308800Z"
    },
    "collapsed": false
   },
   "outputs": [],
   "source": [
    "# Path to the directory where the original dataset was uncompressed\n",
    "org_dataset_dir = \".../Rocks/dataset_org/\"\n",
    "\n",
    "# destination directory\n",
    "base_train = \".../PyDL_C/data_org/train/\"\n",
    "base_test = \".../PyDL_C/data_org/test/\"\n",
    "base_validation = \".../PyDL_C/data_org/validation/\"\n",
    "\n",
    "# create directories\n",
    "if not os.path.exists(base_train):\n",
    "    os.mkdir(base_train)\n",
    "\n",
    "if not os.path.exists(base_test):\n",
    "    os.mkdir(base_test)\n",
    "\n",
    "if not os.path.exists(base_validation):\n",
    "    os.mkdir(base_validation)"
   ]
  },
  {
   "cell_type": "code",
   "execution_count": null,
   "metadata": {
    "ExecuteTime": {
     "end_time": "2024-01-16T04:02:58.271183900Z",
     "start_time": "2024-01-16T04:02:58.258135400Z"
    },
    "collapsed": false
   },
   "outputs": [],
   "source": [
    "# random seed\n",
    "random.seed(42)\n",
    "\n",
    "# division into 3 sets\n",
    "train_ratio = 0.70\n",
    "testF_ratio = 0.30"
   ]
  },
  {
   "cell_type": "code",
   "execution_count": null,
   "metadata": {
    "ExecuteTime": {
     "end_time": "2024-01-16T04:03:06.437071500Z",
     "start_time": "2024-01-16T04:02:58.266898700Z"
    },
    "collapsed": false
   },
   "outputs": [],
   "source": [
    "train_len = 0\n",
    "test_len = 0\n",
    "validation_len = 0\n",
    "\n",
    "for i in tqdm(range(1, len(os.listdir(org_dataset_dir))+1)):\n",
    "    # Path to original dataset's classes\n",
    "    local_dir = org_dataset_dir + \"c\" + str(i) + \"/\"\n",
    "\n",
    "    # division into 3 sets\n",
    "    train, testF = train_test_split(os.listdir(local_dir), train_size=train_ratio, test_size=testF_ratio, shuffle=True)\n",
    "    test, validation = train_test_split(testF, train_size=0.5, test_size=0.5, shuffle=True)\n",
    "\n",
    "    # New Directories for each class\n",
    "    train_Final = base_train + \"c\" + str(i) + \"/\"\n",
    "    test_Final = base_test + \"c\" + str(i) + \"/\"\n",
    "    validation_Final = base_validation + \"c\" + str(i) + \"/\"\n",
    "\n",
    "    # create directories\n",
    "    os.mkdir(train_Final)\n",
    "    os.mkdir(test_Final)\n",
    "    os.mkdir(validation_Final)\n",
    "\n",
    "    for j in train:\n",
    "        local_file = local_dir + j\n",
    "        # copy file to new directory\n",
    "        shutil.copy(local_file, train_Final)\n",
    "\n",
    "        train_len += 1\n",
    "\n",
    "    for j in test:\n",
    "        local_file = local_dir + j\n",
    "        # copy file to new directory\n",
    "        shutil.copy(local_file, test_Final)\n",
    "\n",
    "        test_len += 1\n",
    "\n",
    "    for j in validation:\n",
    "        local_file = local_dir + j\n",
    "        # copy file to new directory\n",
    "        shutil.copy(local_file, validation_Final)\n",
    "\n",
    "        validation_len += 1\n"
   ]
  },
  {
   "cell_type": "code",
   "execution_count": null,
   "metadata": {
    "ExecuteTime": {
     "end_time": "2024-01-16T04:03:06.438167200Z",
     "start_time": "2024-01-16T04:03:06.434176400Z"
    },
    "collapsed": false
   },
   "outputs": [],
   "source": [
    "#  Analysis of the sets created\n",
    "print(\"Total number of images in the original dataset: \", train_len + test_len + validation_len, \"\\n\")\n",
    "print(\"Total number of images in the train set: \", train_len)\n",
    "print(\"Total number of images in the test set: \", test_len)\n",
    "print(\"Total number of images in the validation set: \", validation_len)"
   ]
  }
 ],
 "metadata": {
  "kernelspec": {
   "display_name": "Python 3 (ipykernel)",
   "language": "python",
   "name": "python3"
  },
  "language_info": {
   "codemirror_mode": {
    "name": "ipython",
    "version": 2
   },
   "file_extension": ".py",
   "mimetype": "text/x-python",
   "name": "python",
   "nbconvert_exporter": "python",
   "pygments_lexer": "ipython2",
   "version": "2.7.6"
  }
 },
 "nbformat": 4,
 "nbformat_minor": 0
}
